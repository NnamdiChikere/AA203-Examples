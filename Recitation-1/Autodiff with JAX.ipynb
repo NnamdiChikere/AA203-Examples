{
 "cells": [
  {
   "cell_type": "markdown",
   "metadata": {
    "slideshow": {
     "slide_type": "slide"
    },
    "tags": []
   },
   "source": [
    "# JAX\n",
    "\n",
    "JAX follows the *functional programming* paradigm. That is, JAX provides tools to transform a function into another function. Specifically, JAX can automatically compute the *derivative* of a function or composition of functions.\n",
    "\n",
    "As an example, for $f(x) = \\frac{1}{2}\\|x\\|_2^2$, JAX computes $\\nabla{f} : \\mathbb{R}^n \\to \\mathbb{R}^n$ where $\\nabla{f}(x) = x$."
   ]
  },
  {
   "cell_type": "code",
   "execution_count": 1,
   "metadata": {
    "tags": []
   },
   "outputs": [
    {
     "name": "stdout",
     "output_type": "stream",
     "text": [
      "x:         [0. 1. 2.]\n",
      "f(x):      2.5\n",
      "grad_f(x): [0. 1. 2.]\n"
     ]
    }
   ],
   "source": [
    "import jax\n",
    "import jax.numpy as jnp\n",
    "\n",
    "def f(x):\n",
    "    return jnp.sum(x**2)/2   # identical to numpy syntax\n",
    "\n",
    "grad_f = jax.grad(f)         # compute the gradient function\n",
    "\n",
    "x = jnp.array([0., 1., 2.])  # use JAX arrays!\n",
    "print('x:        ', x)\n",
    "print('f(x):     ', f(x))\n",
    "print('grad_f(x):', grad_f(x))"
   ]
  },
  {
   "cell_type": "markdown",
   "metadata": {
    "slideshow": {
     "slide_type": "slide"
    },
    "tags": []
   },
   "source": [
    "# Automatic Differentation\n",
    "\n",
    "Consider the function $f : \\mathbb{R}^n \\to \\mathbb{R}^m$. The Jacobian of $f$ evaluated at the point $x \\in \\mathbb{R}^n$ is the matrix\n",
    "\n",
    "$$\n",
    "\\partial{f}(x) = \\begin{bmatrix}\n",
    "    \\frac{\\partial f_1}{\\partial x_1}(x) \n",
    "    & \\frac{\\partial f_1}{\\partial x_2}(x)\n",
    "    & \\cdots\n",
    "    & \\frac{\\partial f_1}{\\partial x_n}(x)\n",
    "    \\\\\n",
    "    \\frac{\\partial f_2}{\\partial x_1}(x) \n",
    "    & \\frac{\\partial f_2}{\\partial x_2}(x)\n",
    "    & \\cdots\n",
    "    & \\frac{\\partial f_2}{\\partial x_n}(x)\n",
    "    \\\\\n",
    "    \\vdots & \\vdots & \\ddots & \\vdots\n",
    "    \\\\\n",
    "    \\frac{\\partial f_m}{\\partial x_1}(x) \n",
    "    & \\frac{\\partial f_m}{\\partial x_2}(x)\n",
    "    & \\cdots\n",
    "    & \\frac{\\partial f_m}{\\partial x_n}(x)\n",
    "\\end{bmatrix}\n",
    "= \\left[\\frac{\\partial f_i}{\\partial x_j}(x)\\right]_{i=1,j=1}^{m,n} \\in \\mathbb{R}^{m \\times n}.\n",
    "$$\n",
    "\n",
    "As for any matrix, the Jacobian $\\partial{f}(x) : \\mathbb{R}^n \\to \\mathbb{R}^m$ is a linear map $v \\mapsto \\partial{f}(x)v$ defined by the usual matrix-vector multiplication rules."
   ]
  },
  {
   "cell_type": "markdown",
   "metadata": {
    "slideshow": {
     "slide_type": "slide"
    },
    "tags": []
   },
   "source": [
    "*Automatic Differentiation (AD, autodiff)* uses pre-defined derivatives and the chain rule to compute derivatives of more complex functions. \n",
    "\n",
    "In particular, AD can be used to compute the *Jacobian-Vector Product (JVP)*\n",
    "\n",
    "$$\n",
    "\\begin{aligned}\n",
    "    \\partial{f}(x) : \\mathbb{R}^n &\\to \\mathbb{R}^m\n",
    "    \\\\ v &\\mapsto \\partial{f}(x)v\n",
    "\\end{aligned},\n",
    "$$\n",
    "\n",
    "and the *Vector-Jacobian Product (VJP)*\n",
    "\n",
    "$$\n",
    "\\begin{aligned}\n",
    "    \\partial{f}(x)^\\top : \\mathbb{R}^m &\\to \\mathbb{R}^n\n",
    "    \\\\ w &\\mapsto \\partial{f}(x)^\\top w\n",
    "\\end{aligned}.\n",
    "$$\n",
    "\n",
    "The maps $v \\mapsto \\partial{f}(x)v$ and $w \\mapsto \\partial{f}(x)^\\top w$ are also known as the *pushforward* and *pullback*, respectively, of $f$ at $x$. The vectors $v$ and $w$ are termed *seeds* in AD literature."
   ]
  },
  {
   "cell_type": "markdown",
   "metadata": {
    "slideshow": {
     "slide_type": "slide"
    },
    "tags": []
   },
   "source": [
    "Consider the function composition\n",
    "\n",
    "$$\n",
    "h(x) = (f_N \\circ f_{N-1} \\circ \\cdots \\circ f_1)(x) = f_N(f_{N-1}(\\cdots f_1(x)\\cdots)),\n",
    "$$\n",
    "\n",
    "where each $f_k : \\mathbb{R}^{d_k} \\to \\mathbb{R}^{d_{k+1}}$ is some differentiable map. \n",
    "\n",
    "We can write this recursively as\n",
    "\n",
    "$$\n",
    "y_0 = x \\in \\mathbb{R}^n,\\quad y_{k+1} = f_k(y_k) \\in \\mathbb{R}^{d_{k+1}},\\quad y_N = h(x) \\in \\mathbb{R}^{d_N}.\n",
    "$$\n",
    "\n",
    "By the chain rule, we have\n",
    "\n",
    "$$\n",
    "\\partial{h}(x)\n",
    "= \\partial{f_N}(y_{N-1})\\partial{f_{N-1}}(y_{N-2}) \\cdots \\partial{f_1}(y_0).\n",
    "$$\n",
    "\n",
    "This sequence of matrix multiplications that can get quickly get expensive for complicated functions!"
   ]
  },
  {
   "cell_type": "markdown",
   "metadata": {
    "slideshow": {
     "slide_type": "slide"
    },
    "tags": []
   },
   "source": [
    "It is more efficient and usually sufficient in practice to compute JVPs via the recursion\n",
    "\n",
    "$$\n",
    "\\begin{aligned}\n",
    "\\partial{h}(x)v_0 \n",
    "&= \\partial{f_N}(y_{N-1})\\partial{f_{N-1}}(y_{N-2}) \\cdots \\partial{f_1}(y_0) v_0 \\\\\n",
    "&= v_N \\\\\n",
    "v_k &= \\partial{f_k}(y_{k-1})v_{k-1}\n",
    "\\end{aligned},\n",
    "$$\n",
    "\n",
    "and VJPs via the recursion\n",
    "\n",
    "$$\n",
    "\\begin{aligned}\n",
    "\\partial{h}(x)^\\top w_0 \n",
    "&= \\partial{f_1}(y_0)^\\top \\cdots \\partial{f_{N-1}}(y_{N-2})^\\top \\partial{f_N}(y_{N-1})^\\top w_0 \\\\\n",
    "&= w_N \\\\\n",
    "w_k &= \\partial{f_{N-k+1}}(y_{N-k})w_{k-1}\n",
    "\\end{aligned}.\n",
    "$$\n",
    "\n",
    "VJPs require more memory than JVPs, since $\\{y_k\\}_{k=1}^{N-1}$ must be computed and stored first (i.e., the *forward pass*) before recursing (i.e., the *backward pass*)."
   ]
  },
  {
   "cell_type": "markdown",
   "metadata": {
    "slideshow": {
     "slide_type": "slide"
    },
    "tags": []
   },
   "source": [
    "## Example: VJP as a gradient\n",
    "\n",
    "For a scalar function $f : \\mathbb{R}^n \\to \\mathbb{R}$, the Jacobian at $x$ is $\\partial{f}(x) \\in \\mathbb{R}^{1 \\times n}$, so\n",
    "\n",
    "$$\n",
    "\\nabla{f}(x) = \\partial{f}(x)^\\top 1.\n",
    "$$\n",
    "\n",
    "E.g., if $f(x) = \\frac{1}{2}\\|x\\|_2^2$, then $\\nabla{f}(x) = x \\cdot 1$."
   ]
  },
  {
   "cell_type": "code",
   "execution_count": 2,
   "metadata": {
    "tags": []
   },
   "outputs": [
    {
     "name": "stdout",
     "output_type": "stream",
     "text": [
      "x:       [0. 1. 2.]\n",
      "f(x):    2.5\n",
      "dfxT(1): (DeviceArray([0., 1., 2.], dtype=float32),)\n",
      "dfxT(2): (DeviceArray([0., 2., 4.], dtype=float32),)\n"
     ]
    }
   ],
   "source": [
    "f = lambda x: jnp.sum(x**2)/2  # anonymous functions work as well\n",
    "x = jnp.array([0., 1., 2.])\n",
    "f_x, dfxT = jax.vjp(f, x)      # compute forward pass and VJP function\n",
    "\n",
    "print('x:      ', x)\n",
    "print('f(x):   ', f_x)\n",
    "print('dfxT(1):', dfxT(1.))      \n",
    "print('dfxT(2):', dfxT(2.))"
   ]
  },
  {
   "cell_type": "markdown",
   "metadata": {
    "slideshow": {
     "slide_type": "slide"
    },
    "tags": []
   },
   "source": [
    "## Example: JVP as a directional derivative\n",
    "The directional derivative of $f : \\mathbb{R}^n \\to \\mathbb{R}$ at $x \\in \\mathbb{R}^n$ along $v \\in \\mathbb{R}^n$ is\n",
    "\n",
    "$$\n",
    "\\nabla{f}(x)^\\top v  = \\partial{f}(x)v.\n",
    "$$\n",
    "\n",
    "E.g., if $f(x) = \\frac{1}{2}\\|x\\|_2^2$, then $\\nabla{f}(x)^\\top v = x^\\top v$."
   ]
  },
  {
   "cell_type": "code",
   "execution_count": 3,
   "metadata": {},
   "outputs": [
    {
     "name": "stdout",
     "output_type": "stream",
     "text": [
      "x:      [0. 1. 2.]\n",
      "f(x):   2.5\n",
      "dfx(v): 3.0\n"
     ]
    }
   ],
   "source": [
    "f = lambda x: jnp.sum(x**2)/2\n",
    "x = jnp.array([0., 1., 2.])\n",
    "v = jnp.array([1., 1., 1.])\n",
    "\n",
    " # use tuples to separate inputs from seeds\n",
    "f_x, dfx_v = jax.jvp(f, (x,), (v,))\n",
    "\n",
    "print('x:     ', x)\n",
    "print('f(x):  ', f_x)\n",
    "print('dfx(v):', dfx_v)"
   ]
  },
  {
   "cell_type": "markdown",
   "metadata": {
    "slideshow": {
     "slide_type": "slide"
    },
    "tags": []
   },
   "source": [
    "## Example: Multi-input, multi-output VJP\n",
    "Let's try something more complicated:\n",
    "\n",
    "$$\n",
    "\\begin{aligned}\n",
    "f : \\mathbb{R}^n \\times \\mathbb{R}^n &\\to \\mathbb{R} \\times \\mathbb{R} \\\\\n",
    "(x,y) &\\mapsto \\left(\\frac{1}{2}\\|x\\|_2^2 + \\frac{1}{2}\\|y\\|_2^2, \\sum_{i=1}^n x_i \\right)\n",
    "\\end{aligned}\n",
    "$$"
   ]
  },
  {
   "cell_type": "code",
   "execution_count": 4,
   "metadata": {
    "tags": []
   },
   "outputs": [
    {
     "name": "stdout",
     "output_type": "stream",
     "text": [
      "x,y:      [0. 1. 2.] [0. 1. 2.]\n",
      "f(x,y):   (DeviceArray(5., dtype=float32), DeviceArray(3., dtype=float32))\n",
      "dfT(1,1): (DeviceArray([1., 2., 3.], dtype=float32), DeviceArray([0., 1., 2.], dtype=float32))\n"
     ]
    }
   ],
   "source": [
    "def f(x, y):\n",
    "    f1 = jnp.sum(x**2)/2 + jnp.sum(y**2)/2\n",
    "    f2 = jnp.sum(x)\n",
    "    return f1, f2\n",
    "\n",
    "x = jnp.array([0., 1., 2.])\n",
    "y = jnp.array([0., 1., 2.])\n",
    "f_xy, dfT = jax.vjp(f, x, y)\n",
    "\n",
    "print('x,y:     ', x, y)\n",
    "print('f(x,y):  ', f_xy)\n",
    "print('dfT(1,1):', dfT((1., 1.)))  # provide tuple as input"
   ]
  },
  {
   "cell_type": "markdown",
   "metadata": {
    "slideshow": {
     "slide_type": "slide"
    },
    "tags": []
   },
   "source": [
    "## Example: VJP and JVP for a Matrix Input\n",
    "We can generalize VJPs and JVPs to non-vector inputs as well:\n",
    "\n",
    "$$\n",
    "\\begin{aligned}\n",
    "f : \\mathbb{R}^{n \\times n} &\\to \\mathbb{R} \\\\\n",
    "X &\\mapsto a^\\top X b\n",
    "\\end{aligned}\n",
    "$$"
   ]
  },
  {
   "cell_type": "code",
   "execution_count": 5,
   "metadata": {
    "tags": []
   },
   "outputs": [
    {
     "name": "stdout",
     "output_type": "stream",
     "text": [
      "X:\n",
      "[[1. 1. 1.]\n",
      " [1. 1. 1.]\n",
      " [1. 1. 1.]]\n",
      "f(X): 9.0\n",
      "\n",
      "dfT(1):\n",
      "(DeviceArray([[0., 0., 0.],\n",
      "             [0., 1., 2.],\n",
      "             [0., 2., 4.]], dtype=float32),)\n",
      "df(I): 5.0\n"
     ]
    }
   ],
   "source": [
    "def f(X):\n",
    "    a, b = jnp.array([0., 1., 2.]), jnp.array([0., 1., 2.])\n",
    "    return a @ (X @ b)\n",
    "\n",
    "X = jnp.ones((3, 3))\n",
    "w, V = jnp.array(1.), jnp.eye(3)\n",
    "f_x, dfT = jax.vjp(f, X)\n",
    "f_x, df_v = jax.jvp(f, (X,), (V,))\n",
    "\n",
    "print('X:\\n', X, '\\n', 'f(X): ', f_x, '\\n', sep='')\n",
    "print('dfT(1):\\n', dfT(w), '\\n', 'df(I): ', df_v, sep='')"
   ]
  },
  {
   "cell_type": "markdown",
   "metadata": {
    "slideshow": {
     "slide_type": "slide"
    },
    "tags": []
   },
   "source": [
    "# Auto-Vectorizing Functions with `jax.vmap`\n",
    "\n",
    "For some complicated function $f : \\mathbb{R}^n \\to \\mathbb{R}^m$, we want to calculate $f(x)$ for *many* different values of $x$ without looping. \n",
    "\n",
    "This is known as *vectorizing* a function. JAX can do this automatically!"
   ]
  },
  {
   "cell_type": "code",
   "execution_count": 6,
   "metadata": {},
   "outputs": [
    {
     "name": "stdout",
     "output_type": "stream",
     "text": [
      "(100, 3)\n",
      "(100, 2)\n"
     ]
    }
   ],
   "source": [
    "f = lambda x: jnp.array([jnp.sum(x**2)/2, jnp.linalg.norm(x, jnp.inf)])\n",
    "f = jax.vmap(f)\n",
    "\n",
    "batch_size, n = 100, 3\n",
    "x = jnp.ones((batch_size, n))  # dummy values with desired shape\n",
    "\n",
    "print(x.shape)\n",
    "print(f(x).shape)"
   ]
  },
  {
   "cell_type": "markdown",
   "metadata": {
    "slideshow": {
     "slide_type": "slide"
    },
    "tags": []
   },
   "source": [
    "## Example: Batch Evaluation of a Neural Network"
   ]
  },
  {
   "cell_type": "code",
   "execution_count": 7,
   "metadata": {},
   "outputs": [
    {
     "name": "stdout",
     "output_type": "stream",
     "text": [
      "(100, 3)\n",
      "(100, 5)\n"
     ]
    }
   ],
   "source": [
    "f = lambda x, W, b: W[1] @ jnp.tanh(W[0] @ x + b[0]) + b[1]\n",
    "f = jax.vmap(f, in_axes=(0, None, None))\n",
    "\n",
    "n, m = 3, 5\n",
    "batch_size = 100\n",
    "hdim = 32\n",
    "\n",
    "W = (jnp.ones((hdim, n)), jnp.ones((m, hdim)))\n",
    "b = (jnp.ones(hdim), jnp.ones(m))\n",
    "x = jnp.ones((batch_size, n))\n",
    "\n",
    "print(x.shape)\n",
    "print(f(x, W, b).shape)"
   ]
  },
  {
   "cell_type": "markdown",
   "metadata": {
    "slideshow": {
     "slide_type": "slide"
    },
    "tags": []
   },
   "source": [
    "## Example: Jacobian Matrix from JVPs and VJPs\n",
    "\n",
    "Let $e^{(d)}_k \\in \\{0,1\\}^d$ denote the $k^\\text{th}$ coordinate vector in $d$ dimensions. For $f : \\mathbb{R}^n \\to \\mathbb{R}^m$, we can compute the full Jacobian $\\partial{f}(x) \\in \\mathbb{R}^{m \\times n}$ with either $n$ JVPs\n",
    "\n",
    "$$\n",
    "\\partial{f}(x) = \\partial{f}(x)I_n = \\begin{bmatrix}\n",
    "    \\partial{f}(x)e^{(n)}_1 & \\partial{f}(x)e^{(n)}_2 & \\cdots & \\partial{f}(x)e^{(n)}_n\n",
    "\\end{bmatrix},\n",
    "$$\n",
    "\n",
    "or $m$ VJPs\n",
    "$$\n",
    "\\partial{f}(x)^\\top = \\partial{f}(x)^\\top I_m = \\begin{bmatrix}\n",
    "    \\partial{f}(x)^\\top e^{(m)}_1 & \\partial{f}(x)^\\top e^{(m)}_2 & \\cdots & \\partial{f}(x)^\\top e^{(m)}_m\n",
    "\\end{bmatrix}.\n",
    "$$"
   ]
  },
  {
   "cell_type": "markdown",
   "metadata": {
    "slideshow": {
     "slide_type": "slide"
    },
    "tags": []
   },
   "source": [
    "This is what the source code for `jax.jacfwd` and `jac.jacrev` does."
   ]
  },
  {
   "cell_type": "code",
   "execution_count": 8,
   "metadata": {
    "tags": []
   },
   "outputs": [
    {
     "name": "stdout",
     "output_type": "stream",
     "text": [
      "Jacobian (forward AD):\n",
      "[[1. 2.]\n",
      " [0. 0.]\n",
      " [0. 2.]]\n",
      "\n",
      "Jacobian (reverse AD):\n",
      "[[1. 0. 0.]\n",
      " [2. 0. 2.]]\n"
     ]
    }
   ],
   "source": [
    "f = lambda x: jnp.array([x[0], x[0]**2 + x[2]**2])\n",
    "\n",
    "def df(x, v):\n",
    "    fx, dfx_v = jax.jvp(f, (x,), (v,))\n",
    "    return dfx_v\n",
    "\n",
    "def dfT(x, w):\n",
    "    fx, dfxT = jax.vjp(f, x)\n",
    "    return dfxT(w)[0]  # need to index into tuple\n",
    "\n",
    "n, m = 3, 2\n",
    "x = jnp.ones(n)\n",
    "Jx = jax.vmap(df, in_axes=(None, 0))(x, jnp.eye(n))\n",
    "JxT = jax.vmap(dfT, in_axes=(None, 0))(x, jnp.eye(m))\n",
    "print('Jacobian (forward AD):')\n",
    "print(Jx)\n",
    "print('\\nJacobian (reverse AD):')\n",
    "print(JxT)"
   ]
  },
  {
   "cell_type": "markdown",
   "metadata": {
    "slideshow": {
     "slide_type": "slide"
    },
    "tags": []
   },
   "source": [
    "## Example: Linearizing Dynamics at Many Points\n",
    "For $\\dot{x} = f(x,u)$ with $x \\in \\mathbb{R}^n$ and $u \\in \\mathbb{R}^m$, recall the first-order Taylor approximation\n",
    "\n",
    "$$\n",
    "f(x,u) \\approx \\underbrace{f(\\bar{x}_k,\\bar{u}_k)}_{= c_k}\n",
    "    + \\underbrace{\\partial_x{f}(\\bar{x}_k,\\bar{u}_k)}_{= A_k}(x - \\bar{x})\n",
    "    + \\underbrace{\\partial_u{f}(\\bar{x}_k,\\bar{u}_k)}_{= B_k}(u - \\bar{u}).\n",
    "$$\n",
    "\n",
    "We want $A_k\\Delta{x}_t$, $B_k\\Delta{u}_t$, and $c_k$ for $\\{(\\bar{x}_k,\\bar{u}_k)\\}_{k=1}^K$ and $\\{(\\Delta{x}_t,\\Delta{u}_t)\\}_{t=1}^T$."
   ]
  },
  {
   "cell_type": "code",
   "execution_count": 9,
   "metadata": {},
   "outputs": [
    {
     "name": "stdout",
     "output_type": "stream",
     "text": [
      "(5, 10, 2)\n",
      "(5, 10, 2)\n",
      "(5, 10, 2)\n"
     ]
    }
   ],
   "source": [
    "# Inverted pendulum (with unit mass and unit length)\n",
    "f = lambda x, u: jnp.array([x[1], 9.81*jnp.sin(x[0]) + u[0]])\n",
    "\n",
    "def taylor(x̄, ū, Δx, Δu):\n",
    "    f_x̄ū, AΔx = jax.jvp(lambda x: f(x, ū), (x̄,), (Δx,))\n",
    "    _, BΔu = jax.jvp(lambda u: f(x̄, u), (ū,), (Δu,))\n",
    "    return f_x̄ū, AΔx, BΔu\n",
    "\n",
    "n, m = 2, 1\n",
    "K, T = 5, 10\n",
    "x̄, ū = jnp.ones((K, n)), jnp.ones((K, m))\n",
    "Δx, Δu = jnp.ones((T, n)), jnp.ones((T, m))\n",
    "\n",
    "taylor = jax.vmap(taylor, in_axes=(None, None, 0, 0))\n",
    "taylor = jax.vmap(taylor, in_axes=(0, 0, None, None))\n",
    "c, Ax, Bu = taylor(x̄, ū, Δx, Δu)\n",
    "print(c.shape)\n",
    "print(Ax.shape)\n",
    "print(Bu.shape)"
   ]
  },
  {
   "cell_type": "markdown",
   "metadata": {
    "slideshow": {
     "slide_type": "slide"
    },
    "tags": []
   },
   "source": [
    "# Other Features and Nuances of JAX\n",
    "\n",
    "See the [JAX documentation](https://jax.readthedocs.io/en/latest/notebooks/quickstart.html) for more details."
   ]
  },
  {
   "cell_type": "markdown",
   "metadata": {},
   "source": [
    "## Just-In-Time (JIT) Compilation\n",
    "\n",
    "JAX can compile code to run fast on both CPUs and GPUs. The first call to a \"jitted\" function will compile and cache the function; subsequent calls are then much faster."
   ]
  },
  {
   "cell_type": "code",
   "execution_count": 13,
   "metadata": {},
   "outputs": [
    {
     "name": "stdout",
     "output_type": "stream",
     "text": [
      "1.44 ms ± 37.6 µs per loop (mean ± std. dev. of 10 runs, 100 loops each)\n",
      "316 µs ± 164 µs per loop (mean ± std. dev. of 10 runs, 100 loops each)\n"
     ]
    }
   ],
   "source": [
    "def selu(x, alpha=1.67, lmbda=1.05):\n",
    "    return lmbda * jnp.where(x > 0, x, alpha * jnp.exp(x) - alpha)\n",
    "\n",
    "x = jnp.ones(int(1e7))\n",
    "%timeit -r10 -n100 selu(x).block_until_ready()\n",
    "\n",
    "selu_jit = jax.jit(selu)\n",
    "%timeit -r10 -n100 selu_jit(x).block_until_ready()"
   ]
  },
  {
   "cell_type": "markdown",
   "metadata": {
    "slideshow": {
     "slide_type": "slide"
    },
    "tags": []
   },
   "source": [
    "## In-Place Updates\n",
    "\n",
    "JAX arrays are immutable. In keeping with the functional programming paradigm, updates to array values at indices are done via JAX functions."
   ]
  },
  {
   "cell_type": "code",
   "execution_count": 11,
   "metadata": {},
   "outputs": [
    {
     "name": "stdout",
     "output_type": "stream",
     "text": [
      "Exception: '<class 'jaxlib.xla_extension.DeviceArray'>' object does not support item assignment. JAX arrays are immutable. Instead of ``x[idx] = y``, use ``x = x.at[idx].set(y)`` or another .at[] method: https://jax.readthedocs.io/en/latest/_autosummary/jax.numpy.ndarray.at.html\n",
      "\n",
      "X:\n",
      "[[0. 0. 0.]\n",
      " [0. 0. 0.]\n",
      " [0. 0. 0.]]\n",
      "\n",
      "Y:\n",
      "[[1. 1. 1.]\n",
      " [0. 0. 0.]\n",
      " [0. 0. 0.]]\n"
     ]
    }
   ],
   "source": [
    "X = jnp.zeros((3,3))\n",
    "try:\n",
    "    X[0, :] = 1.\n",
    "except Exception as e:\n",
    "    print(\"Exception: {}\".format(e))\n",
    "print('\\nX:\\n', X, sep='')\n",
    "\n",
    "Y = X.at[0, :].set(1.)\n",
    "print('\\nY:\\n', Y, sep='')"
   ]
  },
  {
   "cell_type": "markdown",
   "metadata": {
    "slideshow": {
     "slide_type": "slide"
    },
    "tags": []
   },
   "source": [
    "## Pseudo-Random Number Generation (PRNG)\n",
    "\n",
    "JAX does explicit PRNG; after initiailizing a PRNG state, it can be forked into new PRNG states for parallel stochastic generation. \n",
    "\n",
    "This enables reproducible results; propagate the key and make new subkeys whenever new random numbers are needed."
   ]
  },
  {
   "cell_type": "code",
   "execution_count": 12,
   "metadata": {},
   "outputs": [
    {
     "name": "stdout",
     "output_type": "stream",
     "text": [
      "[-0.18471177]\n",
      "[-0.18471177]\n",
      "\n",
      "key [ 0 42]\n",
      "|-- SPLIT --> key     [3134548294 3733159049]\n",
      "          --> subkeys [3746501087  894150801] --> normal [0.10796154]\n",
      "                      [ 801545058 2363201431] --> normal [-1.2226542]\n"
     ]
    }
   ],
   "source": [
    "seed = 42\n",
    "key = jax.random.PRNGKey(seed)\n",
    "print(jax.random.normal(key, shape=(1,)))\n",
    "print(jax.random.normal(key, shape=(1,)))  # same value sampled!\n",
    "\n",
    "print('\\nkey', key)\n",
    "key, *subkeys = jax.random.split(key, 3)\n",
    "print('|-- SPLIT --> key    ', key)\n",
    "print('          --> subkeys', subkeys[0], \n",
    "      '--> normal', jax.random.normal(subkeys[0], shape=(1,)))\n",
    "print('                     ', subkeys[1], \n",
    "      '--> normal', jax.random.normal(subkeys[1], shape=(1,)))"
   ]
  }
 ],
 "metadata": {
  "authors": [
   {
    "name": "Spencer M.~Richards"
   }
  ],
  "kernelspec": {
   "display_name": "Python 3 (ipykernel)",
   "language": "python",
   "name": "python3"
  },
  "language_info": {
   "codemirror_mode": {
    "name": "ipython",
    "version": 3
   },
   "file_extension": ".py",
   "mimetype": "text/x-python",
   "name": "python",
   "nbconvert_exporter": "python",
   "pygments_lexer": "ipython3",
   "version": "3.8.11"
  },
  "title": "AA 203 Recitation #1: Automatic Differentiation with JAX",
  "toc-autonumbering": true,
  "toc-showcode": false,
  "toc-showmarkdowntxt": false,
  "toc-showtags": false
 },
 "nbformat": 4,
 "nbformat_minor": 4
}
